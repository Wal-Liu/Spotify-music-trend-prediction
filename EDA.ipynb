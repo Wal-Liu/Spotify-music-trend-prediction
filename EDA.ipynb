{
 "cells": [
  {
   "cell_type": "code",
   "execution_count": null,
   "id": "initial_id",
   "metadata": {
    "collapsed": true,
    "jupyter": {
     "is_executing": true
    }
   },
   "outputs": [
    {
     "name": "stdout",
     "output_type": "stream",
     "text": [
      "✅ Dataset copied to ./data\n"
     ]
    }
   ],
   "source": [
    "import kagglehub\n",
    "import shutil\n",
    "import os\n",
    "\n",
    "# Download latest version\n",
    "path = kagglehub.dataset_download(\"asaniczka/top-spotify-songs-in-73-countries-daily-updated\")\n",
    "\n",
    "print(\"Path to dataset files:\", path)\n",
    "\n",
    "# Tạo folder ./data nếu chưa có\n",
    "os.makedirs(\"./data\", exist_ok=True)\n",
    "\n",
    "# Copy toàn bộ file từ cache sang ./data\n",
    "for item in os.listdir(path):\n",
    "    s = os.path.join(path, item)\n",
    "    d = os.path.join(\"./data\", item)\n",
    "    if os.path.isdir(s):\n",
    "        shutil.copytree(s, d, dirs_exist_ok=True)\n",
    "    else:\n",
    "        shutil.copy2(s, d)\n",
    "\n",
    "print(f\"Dataset copied to ./data\")"
   ]
  }
 ],
 "metadata": {
  "kernelspec": {
   "display_name": "Python 3 (ipykernel)",
   "language": "python",
   "name": "python3"
  },
  "language_info": {
   "codemirror_mode": {
    "name": "ipython",
    "version": 3
   },
   "file_extension": ".py",
   "mimetype": "text/x-python",
   "name": "python",
   "nbconvert_exporter": "python",
   "pygments_lexer": "ipython3",
   "version": "3.13.5"
  }
 },
 "nbformat": 4,
 "nbformat_minor": 5
}
