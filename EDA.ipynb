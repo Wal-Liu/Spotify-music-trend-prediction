{
 "cells": [
  {
   "cell_type": "code",
   "execution_count": null,
   "id": "initial_id",
   "metadata": {
    "collapsed": true,
    "jupyter": {
     "is_executing": true,
     "outputs_hidden": true
    }
   },
   "outputs": [],
   "source": [
    "import kagglehub\n",
    "import shutil\n",
    "import os\n",
    "\n",
    "# Download latest version\n",
    "path = kagglehub.dataset_download(\"asaniczka/top-spotify-songs-in-73-countries-daily-updated\")\n",
    "\n",
    "print(\"Path to dataset files:\", path)\n",
    "\n",
    "# Tạo folder ./data nếu chưa có\n",
    "os.makedirs(\"./data\", exist_ok=True)\n",
    "\n",
    "# Copy toàn bộ file từ cache sang ./data\n",
    "for item in os.listdir(path):\n",
    "    s = os.path.join(path, item)\n",
    "    d = os.path.join(\"./data\", item)\n",
    "    if os.path.isdir(s):\n",
    "        shutil.copytree(s, d, dirs_exist_ok=True)\n",
    "    else:\n",
    "        shutil.copy2(s, d)\n",
    "\n",
    "print(f\"Dataset copied to ./data\")"
   ]
  },
  {
   "cell_type": "code",
   "execution_count": null,
   "id": "7fb261ff",
   "metadata": {},
   "outputs": [],
   "source": [
    "import pandas as pd\n",
    "import numpy as np\n",
    "import matplotlib.pyplot as plt\n",
    "import seaborn as sns\n",
    "import sketch \n",
    "from dataprep.eda import plot, plot_correlation"
   ]
  },
  {
   "cell_type": "code",
   "execution_count": null,
   "id": "36a1f6ed",
   "metadata": {},
   "outputs": [],
   "source": [
    "spotify_data = pd.read_csv('./data/universal_top_spotify_songs.csv',parse_dates=['snapshot_date', 'album_release_date'])\n",
    "spotify_data.head(5)"
   ]
  },
  {
   "cell_type": "code",
   "execution_count": null,
   "id": "f626fbac",
   "metadata": {},
   "outputs": [],
   "source": [
    "spotify_data.info()"
   ]
  },
  {
   "cell_type": "code",
   "execution_count": null,
   "id": "6766cf2b",
   "metadata": {},
   "outputs": [],
   "source": [
    "spotify_data.describe(include='O').T"
   ]
  },
  {
   "cell_type": "code",
   "execution_count": null,
   "id": "8ae7d326",
   "metadata": {},
   "outputs": [],
   "source": [
    "def describe_datetime_columns(df: pd.DataFrame, datetime_cols=None, top_n=10):\n",
    "    if datetime_cols is None:\n",
    "        datetime_cols = df.select_dtypes(include=[\"datetime64[ns]\"]).columns\n",
    "    \n",
    "    summary = {}\n",
    "    \n",
    "    for col in datetime_cols:\n",
    "        series = df[col].dropna()  # bỏ NaT\n",
    "        stats = {}\n",
    "        \n",
    "        if series.empty:\n",
    "            summary[col] = {\"count\": 0}\n",
    "            continue\n",
    "        \n",
    "        stats[\"count\"] = series.count()\n",
    "        stats[\"min\"] = series.min()\n",
    "        stats[\"max\"] = series.max()\n",
    "        stats[\"mean\"] = series.mean()\n",
    "        stats[\"median\"] = series.median()\n",
    "        stats[\"mode\"] = list(series.mode())  # có thể có nhiều mode\n",
    "        stats[\"unique\"] = series.nunique()\n",
    "        \n",
    "        # Giá trị xuất hiện nhiều nhất\n",
    "        vc = series.value_counts()\n",
    "        stats[\"top\"] = vc.index[0]\n",
    "        stats[\"freq\"] = vc.iloc[0]\n",
    "        \n",
    "        # Nếu muốn xem thêm top_n giá trị phổ biến nhất\n",
    "        stats[\"top_n_values\"] = vc.head(top_n).to_dict()\n",
    "        \n",
    "        # Khoảng cách thời gian\n",
    "        stats[\"range\"] = series.max() - series.min()\n",
    "        \n",
    "        summary[col] = stats\n",
    "    \n",
    "    return pd.DataFrame(summary).T"
   ]
  },
  {
   "cell_type": "code",
   "execution_count": null,
   "id": "76bf9c78",
   "metadata": {},
   "outputs": [],
   "source": [
    "print(describe_datetime_columns(spotify_data, [\"snapshot_date\", \"album_release_date\"]))"
   ]
  },
  {
   "cell_type": "code",
   "execution_count": null,
   "id": "b02e40f8",
   "metadata": {},
   "outputs": [],
   "source": [
    "print(spotify_data.isnull().sum())"
   ]
  },
  {
   "cell_type": "code",
   "execution_count": null,
   "id": "b259c804",
   "metadata": {},
   "outputs": [],
   "source": [
    "spotify_data = spotify_data.drop_duplicates()"
   ]
  },
  {
   "cell_type": "code",
   "execution_count": null,
   "id": "206c1088",
   "metadata": {},
   "outputs": [],
   "source": [
    "spotify_data = spotify_data.dropna(subset=['name', 'artists', 'country'])"
   ]
  },
  {
   "cell_type": "code",
   "execution_count": null,
   "id": "719cc921",
   "metadata": {},
   "outputs": [],
   "source": [
    "spotify_data['album_name'] = spotify_data['album_name'].fillna(\"Unknown Album\")"
   ]
  }
 ],
 "metadata": {
  "kernelspec": {
   "display_name": "Python 3 (ipykernel)",
   "language": "python",
   "name": "python3"
  },
  "language_info": {
   "codemirror_mode": {
    "name": "ipython",
    "version": 3
   },
   "file_extension": ".py",
   "mimetype": "text/x-python",
   "name": "python",
   "nbconvert_exporter": "python",
   "pygments_lexer": "ipython3",
   "version": "3.13.5"
  }
 },
 "nbformat": 4,
 "nbformat_minor": 5
}
